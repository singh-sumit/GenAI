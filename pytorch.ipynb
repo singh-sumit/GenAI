{
  "nbformat": 4,
  "nbformat_minor": 0,
  "metadata": {
    "colab": {
      "provenance": [],
      "authorship_tag": "ABX9TyNgmcyDtjluZBQCTtBB20HE",
      "include_colab_link": true
    },
    "kernelspec": {
      "name": "python3",
      "display_name": "Python 3"
    },
    "language_info": {
      "name": "python"
    }
  },
  "cells": [
    {
      "cell_type": "markdown",
      "metadata": {
        "id": "view-in-github",
        "colab_type": "text"
      },
      "source": [
        "<a href=\"https://colab.research.google.com/github/singh-sumit/GenAI/blob/main/pytorch.ipynb\" target=\"_parent\"><img src=\"https://colab.research.google.com/assets/colab-badge.svg\" alt=\"Open In Colab\"/></a>"
      ]
    },
    {
      "cell_type": "code",
      "execution_count": null,
      "metadata": {
        "id": "FQeNeRdGlw6H"
      },
      "outputs": [],
      "source": [
        "import torch"
      ]
    },
    {
      "cell_type": "code",
      "source": [
        "# Create a 3-dimensional tensor\n",
        "images = torch.rand((4, 28, 28))"
      ],
      "metadata": {
        "id": "ZStjps40mBTk"
      },
      "execution_count": null,
      "outputs": []
    },
    {
      "cell_type": "code",
      "source": [
        "# Get the second image\n",
        "second_image = images[1]\n",
        "second_image"
      ],
      "metadata": {
        "colab": {
          "base_uri": "https://localhost:8080/"
        },
        "collapsed": true,
        "id": "s1ijaDfJmHw7",
        "outputId": "b3251fd0-2253-49e2-a1d5-d7fc132f2e95"
      },
      "execution_count": null,
      "outputs": [
        {
          "output_type": "execute_result",
          "data": {
            "text/plain": [
              "tensor([[0.6024, 0.7413, 0.6968, 0.2549, 0.6820, 0.7801, 0.1555, 0.8674, 0.7395,\n",
              "         0.3849, 0.6399, 0.9464, 0.4838, 0.7201, 0.2123, 0.5871, 0.6092, 0.8324,\n",
              "         0.1450, 0.3372, 0.2526, 0.5370, 0.7224, 0.6183, 0.2259, 0.3135, 0.2742,\n",
              "         0.8326],\n",
              "        [0.1959, 0.2989, 0.8547, 0.9822, 0.7007, 0.4575, 0.7259, 0.0458, 0.3529,\n",
              "         0.8906, 0.3091, 0.3598, 0.8379, 0.8964, 0.0337, 0.9941, 0.6757, 0.1897,\n",
              "         0.0466, 0.3788, 0.5536, 0.9666, 0.9341, 0.7086, 0.9615, 0.0759, 0.6992,\n",
              "         0.9308],\n",
              "        [0.4834, 0.2242, 0.6561, 0.7698, 0.0909, 0.7092, 0.8999, 0.1807, 0.4850,\n",
              "         0.3764, 0.8420, 0.8989, 0.6675, 0.6472, 0.6058, 0.3550, 0.0703, 0.1052,\n",
              "         0.9050, 0.6314, 0.9273, 0.2320, 0.2025, 0.8624, 0.0123, 0.4533, 0.5294,\n",
              "         0.5971],\n",
              "        [0.8362, 0.2360, 0.6236, 0.3057, 0.1613, 0.9849, 0.1328, 0.3994, 0.0677,\n",
              "         0.3303, 0.4777, 0.8352, 0.2304, 0.2550, 0.7508, 0.9886, 0.8709, 0.9719,\n",
              "         0.9059, 0.1616, 0.4347, 0.4747, 0.6432, 0.0056, 0.9009, 0.7976, 0.1248,\n",
              "         0.8069],\n",
              "        [0.4321, 0.3518, 0.0603, 0.3256, 0.6014, 0.2544, 0.0870, 0.9558, 0.0949,\n",
              "         0.6551, 0.0055, 0.9281, 0.8541, 0.7347, 0.1136, 0.9438, 0.9828, 0.1697,\n",
              "         0.5782, 0.5082, 0.0184, 0.2730, 0.2110, 0.3893, 0.1355, 0.3830, 0.6892,\n",
              "         0.6614],\n",
              "        [0.0133, 0.6803, 0.7678, 0.5285, 0.5339, 0.9166, 0.6113, 0.9592, 0.1458,\n",
              "         0.6851, 0.0421, 0.9865, 0.7666, 0.4146, 0.9719, 0.8723, 0.5071, 0.0792,\n",
              "         0.6356, 0.2352, 0.9807, 0.1166, 0.5801, 0.8458, 0.3753, 0.5610, 0.6012,\n",
              "         0.3729],\n",
              "        [0.1394, 0.4132, 0.4369, 0.1312, 0.3887, 0.0119, 0.1647, 0.7972, 0.8140,\n",
              "         0.2132, 0.8679, 0.2639, 0.9509, 0.5058, 0.1578, 0.2498, 0.0346, 0.4514,\n",
              "         0.3905, 0.7211, 0.3337, 0.9297, 0.2729, 0.2809, 0.7533, 0.1209, 0.3408,\n",
              "         0.6463],\n",
              "        [0.4746, 0.3921, 0.5418, 0.2486, 0.1662, 0.1049, 0.6672, 0.4467, 0.5911,\n",
              "         0.8349, 0.6292, 0.0756, 0.3951, 0.5110, 0.2082, 0.1734, 0.4238, 0.5039,\n",
              "         0.6904, 0.6815, 0.3224, 0.9700, 0.1820, 0.5942, 0.1469, 0.1970, 0.4056,\n",
              "         0.1093],\n",
              "        [0.6715, 0.0731, 0.4495, 0.0853, 0.1925, 0.5380, 0.8834, 0.3860, 0.5354,\n",
              "         0.9818, 0.9663, 0.5478, 0.8764, 0.4758, 0.7424, 0.7787, 0.8266, 0.9284,\n",
              "         0.1239, 0.8200, 0.9864, 0.7947, 0.3620, 0.0540, 0.2145, 0.8371, 0.9204,\n",
              "         0.5224],\n",
              "        [0.8836, 0.4367, 0.7820, 0.1533, 0.1499, 0.1179, 0.7540, 0.2590, 0.5611,\n",
              "         0.1609, 0.5212, 0.0842, 0.9510, 0.1137, 0.9703, 0.9309, 0.0741, 0.0571,\n",
              "         0.7521, 0.4240, 0.7920, 0.1800, 0.9404, 0.4481, 0.6399, 0.7393, 0.0070,\n",
              "         0.9731],\n",
              "        [0.9826, 0.4074, 0.1482, 0.8951, 0.6131, 0.6883, 0.1400, 0.3285, 0.6569,\n",
              "         0.3685, 0.9432, 0.0310, 0.9139, 0.5937, 0.0228, 0.0309, 0.0902, 0.0677,\n",
              "         0.1577, 0.5450, 0.0863, 0.2099, 0.5422, 0.4431, 0.4539, 0.5688, 0.1487,\n",
              "         0.7684],\n",
              "        [0.7067, 0.8981, 0.2908, 0.8873, 0.4356, 0.7384, 0.0246, 0.5883, 0.0306,\n",
              "         0.1762, 0.4845, 0.6142, 0.7280, 0.6978, 0.0448, 0.9833, 0.8903, 0.8747,\n",
              "         0.9216, 0.0888, 0.8193, 0.8232, 0.0187, 0.7279, 0.8938, 0.1647, 0.9570,\n",
              "         0.9633],\n",
              "        [0.7904, 0.0666, 0.8077, 0.3881, 0.2266, 0.9757, 0.8337, 0.2113, 0.0362,\n",
              "         0.5025, 0.9902, 0.1107, 0.0404, 0.3338, 0.9522, 0.6249, 0.3307, 0.4060,\n",
              "         0.5144, 0.6239, 0.1233, 0.7835, 0.2448, 0.7564, 0.3230, 0.9265, 0.6688,\n",
              "         0.8238],\n",
              "        [0.1353, 0.4263, 0.0100, 0.5919, 0.9336, 0.4966, 0.4770, 0.1187, 0.5948,\n",
              "         0.5687, 0.3355, 0.0495, 0.8773, 0.2422, 0.6239, 0.6630, 0.4042, 0.3961,\n",
              "         0.7966, 0.2444, 0.4209, 0.8156, 0.6879, 0.5186, 0.0585, 0.3133, 0.8324,\n",
              "         0.2572],\n",
              "        [0.6265, 0.4285, 0.9080, 0.5388, 0.3888, 0.0404, 0.4055, 0.0774, 0.5148,\n",
              "         0.2859, 0.3377, 0.7621, 0.8337, 0.1247, 0.2533, 0.7462, 0.6073, 0.0685,\n",
              "         0.2531, 0.9138, 0.9261, 0.4765, 0.9085, 0.9678, 0.1937, 0.2514, 0.7057,\n",
              "         0.2054],\n",
              "        [0.4889, 0.7408, 0.8587, 0.7055, 0.7717, 0.7986, 0.9235, 0.2803, 0.9827,\n",
              "         0.2696, 0.3016, 0.9794, 0.9140, 0.4395, 0.7900, 0.6447, 0.2483, 0.7174,\n",
              "         0.4111, 0.6859, 0.5569, 0.2827, 0.3745, 0.7586, 0.6724, 0.9958, 0.1004,\n",
              "         0.4173],\n",
              "        [0.3032, 0.9372, 0.2507, 0.8991, 0.8768, 0.6856, 0.4090, 0.1662, 0.3284,\n",
              "         0.2443, 0.6180, 0.8292, 0.1782, 0.5186, 0.3278, 0.9950, 0.3726, 0.3796,\n",
              "         0.0801, 0.2964, 0.7492, 0.2132, 0.8258, 0.7863, 0.6982, 0.4799, 0.9123,\n",
              "         0.3481],\n",
              "        [0.5789, 0.3845, 0.9829, 0.8703, 0.4090, 0.9958, 0.6219, 0.9484, 0.3457,\n",
              "         0.5209, 0.7803, 0.1333, 0.3498, 0.9462, 0.4103, 0.5076, 0.0396, 0.8324,\n",
              "         0.8411, 0.3587, 0.4439, 0.8242, 0.7102, 0.1761, 0.0059, 0.6517, 0.0493,\n",
              "         0.5826],\n",
              "        [0.4885, 0.9779, 0.7330, 0.6584, 0.9767, 0.2055, 0.6814, 0.0859, 0.6114,\n",
              "         0.7290, 0.4419, 0.2057, 0.3210, 0.2449, 0.8343, 0.7656, 0.6814, 0.1196,\n",
              "         0.0224, 0.4003, 0.0468, 0.0203, 0.7136, 0.0444, 0.5492, 0.9792, 0.3194,\n",
              "         0.8848],\n",
              "        [0.3036, 0.1222, 0.2541, 0.1248, 0.2210, 0.0466, 0.8170, 0.6818, 0.7450,\n",
              "         0.5027, 0.6331, 0.8903, 0.8989, 0.7139, 0.2583, 0.7351, 0.7848, 0.8309,\n",
              "         0.0436, 0.7773, 0.1998, 0.5528, 0.8294, 0.9480, 0.1249, 0.4291, 0.7032,\n",
              "         0.4983],\n",
              "        [0.7172, 0.2182, 0.7140, 0.9682, 0.2451, 0.6074, 0.5235, 0.0638, 0.4458,\n",
              "         0.8873, 0.2622, 0.0961, 0.0414, 0.6260, 0.6458, 0.6370, 0.4284, 0.9500,\n",
              "         0.6523, 0.6455, 0.6164, 0.5090, 0.2733, 0.2698, 0.7869, 0.7787, 0.5198,\n",
              "         0.5242],\n",
              "        [0.6940, 0.7513, 0.2465, 0.9536, 0.6907, 0.0364, 0.9531, 0.1864, 0.8743,\n",
              "         0.9075, 0.1924, 0.3434, 0.1125, 0.6401, 0.5654, 0.0180, 0.1334, 0.1520,\n",
              "         0.1893, 0.2728, 0.1963, 0.6013, 0.4974, 0.2392, 0.3256, 0.4523, 0.6473,\n",
              "         0.4941],\n",
              "        [0.0639, 0.4541, 0.2094, 0.8352, 0.1354, 0.7887, 0.9448, 0.6614, 0.7014,\n",
              "         0.6307, 0.5019, 0.9203, 0.1194, 0.9600, 0.6471, 0.2936, 0.4513, 0.1771,\n",
              "         0.8553, 0.2461, 0.3528, 0.6155, 0.6493, 0.4919, 0.9433, 0.8853, 0.0714,\n",
              "         0.9803],\n",
              "        [0.8026, 0.1517, 0.8724, 0.2912, 0.1896, 0.3576, 0.2595, 0.3147, 0.6582,\n",
              "         0.1567, 0.5051, 0.3802, 0.0860, 0.3589, 0.9934, 0.6050, 0.5474, 0.0206,\n",
              "         0.2829, 0.3037, 0.9404, 0.1567, 0.5415, 0.0824, 0.5882, 0.6382, 0.9066,\n",
              "         0.8804],\n",
              "        [0.8863, 0.3615, 0.3209, 0.9599, 0.8407, 0.9212, 0.9185, 0.9684, 0.2227,\n",
              "         0.4151, 0.8237, 0.6862, 0.8687, 0.7067, 0.7472, 0.7707, 0.9171, 0.4930,\n",
              "         0.2323, 0.7864, 0.7906, 0.2792, 0.9047, 0.2490, 0.3861, 0.0720, 0.2153,\n",
              "         0.5151],\n",
              "        [0.0163, 0.2009, 0.1399, 0.6120, 0.3556, 0.9379, 0.1413, 0.6743, 0.1819,\n",
              "         0.7982, 0.9276, 0.7888, 0.8977, 0.6104, 0.0820, 0.1506, 0.0320, 0.1483,\n",
              "         0.7046, 0.1845, 0.9723, 0.3783, 0.1778, 0.0941, 0.3482, 0.2073, 0.4740,\n",
              "         0.1672],\n",
              "        [0.0991, 0.3646, 0.8940, 0.5196, 0.5754, 0.2410, 0.2449, 0.9489, 0.6891,\n",
              "         0.7311, 0.0780, 0.0316, 0.3602, 0.2730, 0.4544, 0.4481, 0.1736, 0.7434,\n",
              "         0.0161, 0.3369, 0.0671, 0.5501, 0.5753, 0.7834, 0.5027, 0.8861, 0.5825,\n",
              "         0.2709],\n",
              "        [0.7736, 0.5960, 0.6874, 0.3115, 0.5271, 0.1461, 0.6410, 0.4438, 0.1941,\n",
              "         0.3740, 0.6233, 0.8337, 0.7782, 0.7940, 0.7765, 0.0446, 0.5237, 0.1560,\n",
              "         0.9272, 0.1414, 0.7010, 0.3364, 0.3158, 0.9320, 0.3179, 0.5857, 0.3432,\n",
              "         0.4109]])"
            ]
          },
          "metadata": {},
          "execution_count": 4
        }
      ]
    },
    {
      "cell_type": "code",
      "source": [
        "import matplotlib.pyplot as plt"
      ],
      "metadata": {
        "id": "NfXom8_qmNha"
      },
      "execution_count": null,
      "outputs": []
    },
    {
      "cell_type": "code",
      "source": [
        "# Display the image\n",
        "plt.imshow(second_image, cmap=\"gray\")\n",
        "plt.axis('off')\n",
        "plt.show()"
      ],
      "metadata": {
        "colab": {
          "base_uri": "https://localhost:8080/",
          "height": 406
        },
        "id": "0Ut7xP9eoS68",
        "outputId": "59f34824-b8fe-4c75-a53e-06126a127aba"
      },
      "execution_count": null,
      "outputs": [
        {
          "output_type": "display_data",
          "data": {
            "text/plain": [
              "<Figure size 640x480 with 1 Axes>"
            ],
            "image/png": "[encoded data removed]"
          },
          "metadata": {}
        }
      ]
    },
    {
      "cell_type": "markdown",
      "source": [
        "## Pytorch Tensors"
      ],
      "metadata": {
        "id": "TSQStVCXYruw"
      }
    },
    {
      "cell_type": "code",
      "source": [
        "import torch"
      ],
      "metadata": {
        "id": "tVuxEPEmYyg5"
      },
      "execution_count": null,
      "outputs": []
    },
    {
      "cell_type": "code",
      "source": [
        "# tensors with zeros\n",
        "z = torch.zeros(5, 3)\n",
        "print(z)\n",
        "print(z.dtype)"
      ],
      "metadata": {
        "colab": {
          "base_uri": "https://localhost:8080/"
        },
        "id": "tOxICLv2Y0VI",
        "outputId": "88d5df07-fc6f-4a64-c6b8-23637667fae5"
      },
      "execution_count": null,
      "outputs": [
        {
          "output_type": "stream",
          "name": "stdout",
          "text": [
            "tensor([[0., 0., 0.],\n",
            "        [0., 0., 0.],\n",
            "        [0., 0., 0.],\n",
            "        [0., 0., 0.],\n",
            "        [0., 0., 0.]])\n",
            "torch.float32\n"
          ]
        }
      ]
    },
    {
      "cell_type": "code",
      "source": [
        "# Overriding default datatype at creation\n",
        "i = torch.ones((5, 3), dtype=torch.int16)\n",
        "print(i)"
      ],
      "metadata": {
        "colab": {
          "base_uri": "https://localhost:8080/"
        },
        "id": "hBG6UM7gY9jM",
        "outputId": "736164b4-a014-4b3a-9545-44cd66ac4b62"
      },
      "execution_count": null,
      "outputs": [
        {
          "output_type": "stream",
          "name": "stdout",
          "text": [
            "tensor([[1, 1, 1],\n",
            "        [1, 1, 1],\n",
            "        [1, 1, 1],\n",
            "        [1, 1, 1],\n",
            "        [1, 1, 1]], dtype=torch.int16)\n"
          ]
        }
      ]
    },
    {
      "cell_type": "code",
      "source": [
        "# random values using seed PRNG value\n",
        "torch.manual_seed(1729)\n",
        "r1 = torch.rand(2, 2)\n",
        "print('A random tensor:')\n",
        "print(r1)"
      ],
      "metadata": {
        "colab": {
          "base_uri": "https://localhost:8080/"
        },
        "id": "tjXA1G1vZOOJ",
        "outputId": "05e3501c-520c-4a4c-c7c1-3b3d3a73f43e"
      },
      "execution_count": null,
      "outputs": [
        {
          "output_type": "stream",
          "name": "stdout",
          "text": [
            "A random tensor:\n",
            "tensor([[0.3126, 0.3791],\n",
            "        [0.3087, 0.0736]])\n"
          ]
        }
      ]
    },
    {
      "cell_type": "code",
      "source": [
        "r2 = torch.rand(2, 2)\n",
        "print(\"Next random tensor: \")\n",
        "print(r2)"
      ],
      "metadata": {
        "colab": {
          "base_uri": "https://localhost:8080/"
        },
        "id": "secF3BojZjML",
        "outputId": "59247bd6-1563-44ae-f247-e7ede7afc463"
      },
      "execution_count": null,
      "outputs": [
        {
          "output_type": "stream",
          "name": "stdout",
          "text": [
            "Next random tensor: \n",
            "tensor([[0.4216, 0.0691],\n",
            "        [0.2332, 0.4047]])\n"
          ]
        }
      ]
    },
    {
      "cell_type": "code",
      "source": [
        "torch.manual_seed(1729)\n",
        "r3 = torch.rand(2, 2)\n",
        "print(\"r1 should match r3:\", r1.equal(r3))\n",
        "print(r3)"
      ],
      "metadata": {
        "colab": {
          "base_uri": "https://localhost:8080/"
        },
        "id": "w78txdoYaFdV",
        "outputId": "573ab800-08fb-4680-fb1d-dae25db17937"
      },
      "execution_count": null,
      "outputs": [
        {
          "output_type": "stream",
          "name": "stdout",
          "text": [
            "r1 should match r3: True\n",
            "tensor([[0.3126, 0.3791],\n",
            "        [0.3087, 0.0736]])\n"
          ]
        }
      ]
    },
    {
      "cell_type": "markdown",
      "source": [
        "## Arithmetic operations with Tensors\n",
        " - Tensors of similar shapes can be added, subtracted, multiplied, etc."
      ],
      "metadata": {
        "id": "DXHmj6Ubab6r"
      }
    },
    {
      "cell_type": "code",
      "source": [
        "ones = torch.ones(2, 3)\n",
        "print(ones)"
      ],
      "metadata": {
        "colab": {
          "base_uri": "https://localhost:8080/"
        },
        "id": "C8BIB_rGabe0",
        "outputId": "9e57ab6d-83f0-4e15-c6be-c5363174bc9c"
      },
      "execution_count": null,
      "outputs": [
        {
          "output_type": "stream",
          "name": "stdout",
          "text": [
            "tensor([[1., 1., 1.],\n",
            "        [1., 1., 1.]])\n"
          ]
        }
      ]
    },
    {
      "cell_type": "code",
      "source": [
        "# scalar multiplied to tensor\n",
        "twos = torch.ones(2, 3) * 2\n",
        "print(twos)"
      ],
      "metadata": {
        "colab": {
          "base_uri": "https://localhost:8080/"
        },
        "id": "Xroyr5s6cFhU",
        "outputId": "211eb68a-ff6e-44e9-a3b0-2e6b74727649"
      },
      "execution_count": null,
      "outputs": [
        {
          "output_type": "stream",
          "name": "stdout",
          "text": [
            "tensor([[2., 2., 2.],\n",
            "        [2., 2., 2.]])\n"
          ]
        }
      ]
    },
    {
      "cell_type": "code",
      "source": [
        "# addition between two tensor of same shape\n",
        "threes = ones + twos\n",
        "print(threes)\n",
        "print(threes.shape)"
      ],
      "metadata": {
        "colab": {
          "base_uri": "https://localhost:8080/"
        },
        "id": "exyVm_vfcPhw",
        "outputId": "8e8d525b-8992-49ff-d078-c65e5333bedb"
      },
      "execution_count": null,
      "outputs": [
        {
          "output_type": "stream",
          "name": "stdout",
          "text": [
            "tensor([[3., 3., 3.],\n",
            "        [3., 3., 3.]])\n",
            "torch.Size([2, 3])\n"
          ]
        }
      ]
    },
    {
      "cell_type": "code",
      "source": [
        "# adding two tensors of different shape\n",
        "r1 = torch.rand(2, 3)\n",
        "r2 = torch.rand(3, 2)\n",
        "r3 = r1 + r2"
      ],
      "metadata": {
        "colab": {
          "base_uri": "https://localhost:8080/",
          "height": 193
        },
        "id": "932Axcn_cbKh",
        "outputId": "69a36b6b-2e8e-4267-c74d-ca2c0d1d2aed"
      },
      "execution_count": null,
      "outputs": [
        {
          "output_type": "error",
          "ename": "RuntimeError",
          "evalue": "The size of tensor a (3) must match the size of tensor b (2) at non-singleton dimension 1",
          "traceback": [
            "\u001b[0;31m---------------------------------------------------------------------------\u001b[0m",
            "\u001b[0;31mRuntimeError\u001b[0m                              Traceback (most recent call last)",
            "\u001b[0;32m<ipython-input-34-20851f635f21>\u001b[0m in \u001b[0;36m<cell line: 0>\u001b[0;34m()\u001b[0m\n\u001b[1;32m      2\u001b[0m \u001b[0mr1\u001b[0m \u001b[0;34m=\u001b[0m \u001b[0mtorch\u001b[0m\u001b[0;34m.\u001b[0m\u001b[0mrand\u001b[0m\u001b[0;34m(\u001b[0m\u001b[0;36m2\u001b[0m\u001b[0;34m,\u001b[0m \u001b[0;36m3\u001b[0m\u001b[0;34m)\u001b[0m\u001b[0;34m\u001b[0m\u001b[0;34m\u001b[0m\u001b[0m\n\u001b[1;32m      3\u001b[0m \u001b[0mr2\u001b[0m \u001b[0;34m=\u001b[0m \u001b[0mtorch\u001b[0m\u001b[0;34m.\u001b[0m\u001b[0mrand\u001b[0m\u001b[0;34m(\u001b[0m\u001b[0;36m3\u001b[0m\u001b[0;34m,\u001b[0m \u001b[0;36m2\u001b[0m\u001b[0;34m)\u001b[0m\u001b[0;34m\u001b[0m\u001b[0;34m\u001b[0m\u001b[0m\n\u001b[0;32m----> 4\u001b[0;31m \u001b[0mr3\u001b[0m \u001b[0;34m=\u001b[0m \u001b[0mr1\u001b[0m \u001b[0;34m+\u001b[0m \u001b[0mr2\u001b[0m\u001b[0;34m\u001b[0m\u001b[0;34m\u001b[0m\u001b[0m\n\u001b[0m",
            "\u001b[0;31mRuntimeError\u001b[0m: The size of tensor a (3) must match the size of tensor b (2) at non-singleton dimension 1"
          ]
        }
      ]
    }
  ]
}